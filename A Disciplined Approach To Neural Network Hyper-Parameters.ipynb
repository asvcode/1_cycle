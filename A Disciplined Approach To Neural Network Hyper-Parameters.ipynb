{
 "cells": [
  {
   "cell_type": "markdown",
   "metadata": {},
   "source": [
    "### A DISCIPLINED APPROACH TO NEURAL NETWORK HYPER-PARAMETERS: PART 1 – LEARNING RATE, BATCH SIZE, MOMENTUM, AND WEIGHT DECAY"
   ]
  },
  {
   "cell_type": "markdown",
   "metadata": {},
   "source": [
    "- Reviewing the approach for setting Hyperparameters by Leslie Smith. \n",
    "- 'Setting the hyper-parameters remains a black art that requires years of experience to acquire' - Leslie Smith"
   ]
  },
  {
   "cell_type": "markdown",
   "metadata": {
    "heading_collapsed": true
   },
   "source": [
    "### Load Dependancies"
   ]
  },
  {
   "cell_type": "code",
   "execution_count": 1,
   "metadata": {
    "hidden": true
   },
   "outputs": [],
   "source": [
    "# Uncomment the below if you need to reset your precomputed activations\n",
    "!rm -rf {PATH}tmp"
   ]
  },
  {
   "cell_type": "code",
   "execution_count": 2,
   "metadata": {
    "hidden": true
   },
   "outputs": [],
   "source": [
    "%reload_ext autoreload\n",
    "%autoreload 2\n",
    "%matplotlib inline"
   ]
  },
  {
   "cell_type": "code",
   "execution_count": 3,
   "metadata": {
    "hidden": true
   },
   "outputs": [],
   "source": [
    "#Import the fastai libraries\n",
    "from fastai.imports import *\n",
    "from fastai.transforms import *\n",
    "from fastai.conv_learner import *\n",
    "from fastai.model import *\n",
    "from fastai.dataset import *\n",
    "from fastai.sgdr import *\n",
    "from fastai.plots import *"
   ]
  },
  {
   "cell_type": "code",
   "execution_count": 4,
   "metadata": {
    "hidden": true
   },
   "outputs": [],
   "source": [
    "# specify the path of the folder we will be working with\n",
    "PATH = 'data/pill/small/'"
   ]
  },
  {
   "cell_type": "code",
   "execution_count": 5,
   "metadata": {
    "hidden": true
   },
   "outputs": [],
   "source": [
    "# Specify the csv file that contains the labels for the corresponding images in the training folder\n",
    "labels_csv = f'{PATH}/classify_test_double.csv'\n",
    "#labels_csv = f'{PATH}/labels.csv'\n",
    "n = len(list(open(labels_csv))) -1\n",
    "val_idxs = get_cv_idxs(n) #Create a validation set = in this case 20% set for validation\n",
    "#val_idxs = []#use this for not creating a validation set"
   ]
  },
  {
   "cell_type": "code",
   "execution_count": 6,
   "metadata": {
    "hidden": true
   },
   "outputs": [
    {
     "data": {
      "text/plain": [
       "206"
      ]
     },
     "execution_count": 6,
     "metadata": {},
     "output_type": "execute_result"
    }
   ],
   "source": [
    "len(val_idxs) #number in validation set"
   ]
  },
  {
   "cell_type": "code",
   "execution_count": 7,
   "metadata": {
    "hidden": true
   },
   "outputs": [],
   "source": [
    "f_model = resnet50 #choose the pretrained model\n",
    "sz=185\n",
    "bs=8"
   ]
  },
  {
   "cell_type": "code",
   "execution_count": 8,
   "metadata": {
    "hidden": true
   },
   "outputs": [],
   "source": [
    "#aug_tfms = [RandomLighting(0.25,0.150)] + [RandomDihedral()]\n",
    "#aug_tfms = [RandomDihedral()] + [RandomRotate(27)]\n",
    "#aug_tfms = [Cutout(n_holes=200, length=7.5, tfm_y=TfmType.NO)]\n",
    "aug_tfms = [RandomRotateZoom(deg=45, zoom=2, stretch=1)] + [AddPadding(pad=50, mode=cv2.BORDER_WRAP)] + [RandomDihedral()]\n",
    "#aug_tfms = RandomRotate(57)\n",
    "#aug_tfms = RandomFlip()\n",
    "#aug_tfms = RandomDihedral()\n",
    "#aug_tfms =[RandomRotate(27)]\n",
    "#aug_tfms = [AddPadding(pad=50, mode=cv2.BORDER_CONSTANT)] #padding\n",
    "#aug_tfms = transforms_top_down\n",
    "#aug_tfms = RandomLighting(0.25,0.15) #No transformations\n",
    "#aug_tfms = [RandomRotate(10), RandomLighting(0.05, 0.05)] #transforms basic\n",
    "#aug_tfms = transforms_side_on = transforms_basic + [RandomFlip()] #transforms side on\n",
    "#aug_tfms = RandomBlur(blur_strengths=99, probability=100) #random blur\n",
    "#aug_tfms = transforms_top_down = transforms_basic + [RandomDihedral()] # transforms top down\n",
    "#aug_tfms = RandomRotate(90, p=0.75, mode=cv2.BORDER_REFLECT, tfm_y=TfmType.NO) #Random rotatateaug_tfms = [RandomLighting(b=0.5, c=0.1, tfm_y=TfmType.NO)] # Random Lighting\n",
    "#aug_tfms = [RandomRotateZoom(deg=45, zoom=2, stretch=1)] #Random Zoom Rotate\n",
    "#aug_tfms = [RandomRotate(27), RandomLighting(0.15, 0.15), RandomDihedral(), RandomBlur(blur_strengths=71, probability=0.5,\n",
    "                  #  tfm_y=TfmType.NO), RandomRotateZoom(deg=45, zoom=2, stretch=1)] #aug_full\n",
    "#aug_tfms =[RandomRotate(10), RandomLighting(0.05, 0.05)] + [RandomFlip()] + [RandomDihedral()] + [RandomZoom(zoom_max=1)] + [RandomStretch(max_stretch=0.5)]"
   ]
  },
  {
   "cell_type": "code",
   "execution_count": 9,
   "metadata": {
    "hidden": true
   },
   "outputs": [],
   "source": [
    "tfms = tfms_from_model(f_model, sz, aug_tfms)\n",
    "md  = ImageClassifierData.from_csv(PATH, 'train_double', labels_csv, tfms=tfms,\n",
    "                     val_idxs=val_idxs, test_name='test_600', bs=bs)"
   ]
  },
  {
   "cell_type": "code",
   "execution_count": 10,
   "metadata": {
    "hidden": true
   },
   "outputs": [],
   "source": [
    "x,y=next(iter((md.val_dl)))"
   ]
  },
  {
   "cell_type": "code",
   "execution_count": 11,
   "metadata": {
    "hidden": true
   },
   "outputs": [
    {
     "data": {
      "image/png": "[encoded data removed]",
      "text/plain": [
       "<Figure size 432x288 with 1 Axes>"
      ]
     },
     "metadata": {},
     "output_type": "display_data"
    }
   ],
   "source": [
    "plt.imshow(md.trn_ds.denorm(x)[7]); #look at picture 7 from training set"
   ]
  },
  {
   "cell_type": "code",
   "execution_count": 12,
   "metadata": {
    "hidden": true
   },
   "outputs": [],
   "source": [
    "learn = ConvLearner.pretrained(f_model, md)"
   ]
  },
  {
   "cell_type": "markdown",
   "metadata": {},
   "source": [
    "### Cyclic Learning Rates"
   ]
  },
  {
   "cell_type": "markdown",
   "metadata": {},
   "source": [
    "- If the Learning Rate (LR) is too small = Overfitting\n",
    "- If LR is too large = Divergence\n",
    "- However large LRs help to regularize the training\n",
    "- For Cyclic Learning Rates (CLR) you specify specific minimum and maximum learning rate boundaries and a stepsize"
   ]
  },
  {
   "cell_type": "code",
   "execution_count": 13,
   "metadata": {},
   "outputs": [
    {
     "data": {
      "application/vnd.jupyter.widget-view+json": {
       "model_id": "b4063c70cc2747f8a77c6826ffb4655e",
       "version_major": 2,
       "version_minor": 0
      },
      "text/plain": [
       "HBox(children=(IntProgress(value=0, description='Epoch', max=1), HTML(value='')))"
      ]
     },
     "metadata": {},
     "output_type": "display_data"
    },
    {
     "name": "stdout",
     "output_type": "stream",
     "text": [
      " 97%|█████████▋| 100/103 [00:16<00:00,  6.20it/s, loss=0.641]"
     ]
    }
   ],
   "source": [
    "learn.lr_find2(end_lr=100)"
   ]
  },
  {
   "cell_type": "code",
   "execution_count": 14,
   "metadata": {},
   "outputs": [
    {
     "data": {
      "image/png": "[encoded data removed]",
      "text/plain": [
       "<Figure size 432x864 with 3 Axes>"
      ]
     },
     "metadata": {},
     "output_type": "display_data"
    }
   ],
   "source": [
    "learn.sched.plot(1,5)"
   ]
  },
  {
   "cell_type": "markdown",
   "metadata": {},
   "source": [
    "## Understanding Fastai code to implement 1-Cycle Policy"
   ]
  },
  {
   "cell_type": "raw",
   "metadata": {},
   "source": [
    "Using Leslie Smith's 1 cycle policy involves using the following code and parameters:\n",
    "\n",
    "learn.fit(lr,1,cycle_len=20,use_clr_beta=(10,0.25,0.95,0.85),wds=1e-5)\n",
    "\n",
    "This portion involves looking at the first 3 hyperparameters (lr, 1 and cycle_len)\n",
    "\n",
    "- lr = This is the learning rate, based on this paper a higher LR is beneficial but is dependant on the architecture of your model and the data\n",
    "- 1 = denotes to 1 cycle\n",
    "- cycle_len = denotes the length of the cycle length.  The paper provides details of what cycle length to use (They vary from as low as 12 (MNIST with LeNet architecture) to 800 (Cifar-10 with a wide ResNet architecture) but the main point is that cycle lengths between 12 and 50 produce good results and in some cases are compared to those using a much higher length (Time and Resource consuming)"
   ]
  },
  {
   "cell_type": "markdown",
   "metadata": {},
   "source": [
    "- The 1 cycle policy involves a cycle with 2 steps of equal length\n",
    "- Step 1 where the learning rate increases linearly from the maximum to the minimum\n",
    "- Step 2 where it linearly decreases"
   ]
  },
  {
   "cell_type": "code",
   "execution_count": 21,
   "metadata": {},
   "outputs": [
    {
     "data": {
      "application/vnd.jupyter.widget-view+json": {
       "model_id": "2e2d55f062db464b8b7ae66f2c76601f",
       "version_major": 2,
       "version_minor": 0
      },
      "text/plain": [
       "HBox(children=(IntProgress(value=0, description='Epoch', max=2), HTML(value='')))"
      ]
     },
     "metadata": {},
     "output_type": "display_data"
    },
    {
     "name": "stdout",
     "output_type": "stream",
     "text": [
      "epoch      trn_loss   val_loss   <lambda>                     \n",
      "    0      0.075126   0.062634   0.98183   \n",
      "    1      0.072194   0.060749   0.982329                     \n"
     ]
    },
    {
     "data": {
      "text/plain": [
       "[array([0.06075]), 0.9823285595884601]"
      ]
     },
     "execution_count": 21,
     "metadata": {},
     "output_type": "execute_result"
    }
   ],
   "source": [
    "learn.fit(2.0,1,cycle_len=2,use_clr_beta=(10,5,0.95,0.85),wds=1e-5)\n",
    "#Just an example in order to generate the cycle with 2 steps of equal length"
   ]
  },
  {
   "cell_type": "code",
   "execution_count": 22,
   "metadata": {},
   "outputs": [
    {
     "data": {
      "image/png": "[encoded data removed]",
      "text/plain": [
       "<Figure size 864x288 with 2 Axes>"
      ]
     },
     "metadata": {},
     "output_type": "display_data"
    }
   ],
   "source": [
    "learn.sched.plot_lr()"
   ]
  },
  {
   "cell_type": "markdown",
   "metadata": {},
   "source": [
    "- The peak in the middle of the cycle (at 100 iterations) acts as a regularization method to prevent overfitting"
   ]
  },
  {
   "cell_type": "raw",
   "metadata": {},
   "source": [
    "This portion involves looking at the parameters within use_clr_beta which takes 4 parameters\n",
    "\n",
    "use_clr_beta=(10,5,0.95,0.85),wds=1e-5)\n",
    "use_clr_beta=(A,B,C,D), wds=E)\n",
    "\n",
    "A = ratio between the initial learning rate and the maximum one (paper suggests between 1/10 or 1/20)\n",
    "B = the % of the cycle you want to dedicate to the simulated annealing at the end. Can vary from 5% to 25% depending on architecture and data\n",
    "C and D = Momentum can be described as the moving average of the gradients.  In this case the momentum and the learning rate are closely related.  The Optimal learning rate is dependant on the momentum and the momentum is dependant on the learning rate.  Optimal momentum will improve network training and the paper recommends a value between (0.9 and 0.99).  Value C is the maximum momentum in this case 0.95 and Value D is the minimum momentum value which in this case is 0.85"
   ]
  },
  {
   "cell_type": "markdown",
   "metadata": {
    "heading_collapsed": true
   },
   "source": [
    "## Batch Size and LR"
   ]
  },
  {
   "cell_type": "code",
   "execution_count": null,
   "metadata": {
    "hidden": true
   },
   "outputs": [],
   "source": [
    "# Uncomment the below if you need to reset your precomputed activations\n",
    "!rm -rf {PATH}tmp"
   ]
  },
  {
   "cell_type": "code",
   "execution_count": null,
   "metadata": {
    "hidden": true
   },
   "outputs": [],
   "source": [
    "#Use low BS and low LR\n",
    "bs=8\n",
    "lr=0.01"
   ]
  },
  {
   "cell_type": "code",
   "execution_count": null,
   "metadata": {
    "hidden": true
   },
   "outputs": [],
   "source": [
    "%time\n",
    "learn.fit(lr,2,cycle_len=2,use_clr_beta=(10,0.25,0.95,0.85),wds=1e-5)\n",
    "#better results with using lower 5% of the cycle dedicated to the end of the cycle"
   ]
  },
  {
   "cell_type": "code",
   "execution_count": null,
   "metadata": {
    "hidden": true
   },
   "outputs": [],
   "source": [
    "fig,ax = plt.subplots(1,1,figsize=(4,4))\n",
    "ax.plot(list(range(4)),learn.sched.rec_metrics)\n",
    "ax.set_title('Low BS and Low LR')\n",
    "ax.set_xlabel('Epoch')\n",
    "ax.set_ylabel('Accuracy')"
   ]
  },
  {
   "cell_type": "code",
   "execution_count": null,
   "metadata": {
    "hidden": true
   },
   "outputs": [],
   "source": [
    "# Uncomment the below if you need to reset your precomputed activations\n",
    "!rm -rf {PATH}tmp"
   ]
  },
  {
   "cell_type": "code",
   "execution_count": null,
   "metadata": {
    "hidden": true
   },
   "outputs": [],
   "source": [
    "#High BS and Low LR\n",
    "bs=128\n",
    "lr=0.01"
   ]
  },
  {
   "cell_type": "code",
   "execution_count": null,
   "metadata": {
    "hidden": true
   },
   "outputs": [],
   "source": [
    "%time\n",
    "learn.fit(lr,2,cycle_len=2,use_clr_beta=(10,0.25,0.95,0.85),wds=1e-5)"
   ]
  },
  {
   "cell_type": "code",
   "execution_count": null,
   "metadata": {
    "hidden": true
   },
   "outputs": [],
   "source": [
    "fig,ax = plt.subplots(1,1,figsize=(4,4))\n",
    "ax.plot(list(range(4)),learn.sched.rec_metrics)\n",
    "ax.set_title('High BS and Low LR')\n",
    "ax.set_xlabel('Epoch')\n",
    "ax.set_ylabel('Accuracy')"
   ]
  },
  {
   "cell_type": "code",
   "execution_count": null,
   "metadata": {
    "hidden": true
   },
   "outputs": [],
   "source": [
    "# Uncomment the below if you need to reset your precomputed activations\n",
    "!rm -rf {PATH}tmp"
   ]
  },
  {
   "cell_type": "code",
   "execution_count": null,
   "metadata": {
    "hidden": true
   },
   "outputs": [],
   "source": [
    "#Low BS and High LR\n",
    "bs=8\n",
    "lr=2.0"
   ]
  },
  {
   "cell_type": "code",
   "execution_count": null,
   "metadata": {
    "hidden": true
   },
   "outputs": [],
   "source": [
    "%time\n",
    "learn.fit(lr,2,cycle_len=2,use_clr_beta=(10,0.25,0.95,0.85),wds=1e-5)"
   ]
  },
  {
   "cell_type": "code",
   "execution_count": null,
   "metadata": {
    "hidden": true
   },
   "outputs": [],
   "source": [
    "fig,ax = plt.subplots(1,1,figsize=(4,4))\n",
    "ax.plot(list(range(4)),learn.sched.rec_metrics)\n",
    "ax.set_title('Low BS and High LR')\n",
    "ax.set_xlabel('Epoch')\n",
    "ax.set_ylabel('Accuracy')"
   ]
  },
  {
   "cell_type": "code",
   "execution_count": null,
   "metadata": {
    "hidden": true
   },
   "outputs": [],
   "source": [
    "# Uncomment the below if you need to reset your precomputed activations\n",
    "!rm -rf {PATH}tmp"
   ]
  },
  {
   "cell_type": "code",
   "execution_count": null,
   "metadata": {
    "hidden": true
   },
   "outputs": [],
   "source": [
    "#High BS and High LR\n",
    "bs=128\n",
    "lr=2.0"
   ]
  },
  {
   "cell_type": "code",
   "execution_count": null,
   "metadata": {
    "hidden": true
   },
   "outputs": [],
   "source": [
    "%time\n",
    "learn.fit(lr,2,cycle_len=2,use_clr_beta=(10,0.25,0.95,0.85),wds=1e-5)"
   ]
  },
  {
   "cell_type": "code",
   "execution_count": null,
   "metadata": {
    "hidden": true
   },
   "outputs": [],
   "source": [
    "fig,ax = plt.subplots(1,1,figsize=(4,4))\n",
    "ax.plot(list(range(4)),learn.sched.rec_metrics)\n",
    "ax.set_title('High BS and High LR')\n",
    "ax.set_xlabel('Epoch')\n",
    "ax.set_ylabel('Accuracy')"
   ]
  },
  {
   "cell_type": "markdown",
   "metadata": {},
   "source": [
    "## BS and LR analysis"
   ]
  },
  {
   "cell_type": "markdown",
   "metadata": {},
   "source": [
    "![title](img/BS_LR.png)"
   ]
  },
  {
   "cell_type": "markdown",
   "metadata": {},
   "source": [
    "- Low BS and High LR as well as High BS and High LR produce the highest accuracy"
   ]
  },
  {
   "cell_type": "markdown",
   "metadata": {
    "heading_collapsed": true
   },
   "source": [
    "## Learning & Validation Losses Weight Decay "
   ]
  },
  {
   "cell_type": "markdown",
   "metadata": {
    "hidden": true
   },
   "source": [
    "- Use this to test the Weight Decay"
   ]
  },
  {
   "cell_type": "code",
   "execution_count": null,
   "metadata": {
    "hidden": true
   },
   "outputs": [],
   "source": [
    "%time\n",
    "learn.fit(3.0,1,cycle_len=30,use_clr_beta=(10,5,0.95,0.85),wds=1e-1)\n",
    "#better results with using lower 5% of the cycle dedicated to the end of the cycle"
   ]
  },
  {
   "cell_type": "code",
   "execution_count": null,
   "metadata": {
    "hidden": true
   },
   "outputs": [],
   "source": [
    "learn.sched.plot_lr()"
   ]
  },
  {
   "cell_type": "code",
   "execution_count": null,
   "metadata": {
    "hidden": true
   },
   "outputs": [],
   "source": [
    "fig,ax = plt.subplots(2,1,figsize=(8,12))\n",
    "ax[0].plot(list(range(30)),learn.sched.val_losses, label='Validation loss')\n",
    "ax[0].plot(list(range(30)),[learn.sched.losses[i] for i in range(32,30*34,33)], label='Training loss')\n",
    "ax[0].set_xlabel('Epoch')\n",
    "ax[0].set_ylabel('Loss')\n",
    "ax[0].legend(loc='upper right')\n",
    "ax[1].plot(list(range(30)),learn.sched.rec_metrics)\n",
    "ax[1].set_xlabel('Epoch')\n",
    "ax[1].set_ylabel('Accuracy')"
   ]
  },
  {
   "cell_type": "markdown",
   "metadata": {},
   "source": [
    "## Learning & Validation Losses based on Weight Decay Analysis"
   ]
  },
  {
   "cell_type": "markdown",
   "metadata": {},
   "source": [
    "![title](img/Under_over.png)"
   ]
  },
  {
   "cell_type": "markdown",
   "metadata": {},
   "source": [
    "- Pictorial explanation of the tradeoff between underfitting and overfitting\n"
   ]
  },
  {
   "cell_type": "markdown",
   "metadata": {},
   "source": [
    "### 1e5, 1e4, 1e3, 1e2"
   ]
  },
  {
   "cell_type": "markdown",
   "metadata": {},
   "source": [
    "![title](img/loss.png)"
   ]
  },
  {
   "cell_type": "markdown",
   "metadata": {},
   "source": [
    "- The graphs from left to right potray Training (Orange) and Validation (Blue) Loss plots with a Weight Decay(wds) of 1e5, 1e4, 1e3 and 1e2\n",
    "- The graphs show that the Training loss is above the Validation loss when the wds is 1e5 and 1e4 but the two losses then intersect when the wds is 1e3 and 1e2"
   ]
  },
  {
   "cell_type": "code",
   "execution_count": null,
   "metadata": {},
   "outputs": [],
   "source": []
  }
 ],
 "metadata": {
  "kernelspec": {
   "display_name": "Python 3",
   "language": "python",
   "name": "python3"
  },
  "language_info": {
   "codemirror_mode": {
    "name": "ipython",
    "version": 3
   },
   "file_extension": ".py",
   "mimetype": "text/x-python",
   "name": "python",
   "nbconvert_exporter": "python",
   "pygments_lexer": "ipython3",
   "version": "3.6.5"
  }
 },
 "nbformat": 4,
 "nbformat_minor": 2
}
